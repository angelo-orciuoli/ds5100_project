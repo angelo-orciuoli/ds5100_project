{
  "cells": [
    {
      "cell_type": "markdown",
      "id": "fd523c64",
      "metadata": {},
      "source": [
        "# Scenarios\n",
        "\n",
        "Use code blocks to perform the tasks for each scenario.\n",
        "\n",
        "Be sure the outputs are visible before submitting."
      ]
    },
    {
      "cell_type": "code",
      "execution_count": 18,
      "id": "d2919da5",
      "metadata": {},
      "outputs": [],
      "source": [
        "import numpy as np\n",
        "import pandas as pd\n",
        "import matplotlib.pyplot as plt\n",
        "from montecarlo.die import Die\n",
        "from montecarlo.game import Game\n",
        "from montecarlo.analyzer import Analyzer"
      ]
    },
    {
      "cell_type": "markdown",
      "id": "e2479eae-6fc9-44cd-b8d7-9b22cb501f2a",
      "metadata": {
        "id": "e2479eae-6fc9-44cd-b8d7-9b22cb501f2a",
        "jp-MarkdownHeadingCollapsed": true,
        "tags": []
      },
      "source": [
        "## Scenario 1: A 2-headed Coin (9)\n",
        "\n",
        "Task 1. Create a fair coin (with faces $H$ and $T$) and one unfair coin in which one of the faces has a weight of $5$ and the others $1$.\n",
        "\n",
        "- Fair coin created (1).\n",
        "- Unfair coin created with weight as specified (1)."
      ]
    },
    {
      "cell_type": "code",
      "execution_count": 19,
      "id": "55ce498e-c75f-4425-9e3e-b635bd6cd9e1",
      "metadata": {
        "id": "55ce498e-c75f-4425-9e3e-b635bd6cd9e1"
      },
      "outputs": [],
      "source": [
        "fair_coin = Die(np.array(['H', 'T'])) # Fair coin\n",
        "unfair_coin = Die(np.array(['H', 'T'])) # Unfair coin\n",
        "unfair_coin.change_weight('H', 5) # Weight of 'H' is 5"
      ]
    },
    {
      "cell_type": "markdown",
      "id": "02b272ab-99da-4b6e-ac2a-555b73e09c07",
      "metadata": {
        "id": "02b272ab-99da-4b6e-ac2a-555b73e09c07"
      },
      "source": [
        "Task 2. Play a game of $1000$ flips with two fair dice.\n",
        "\n",
        "- Play method called correclty and without error (1)."
      ]
    },
    {
      "cell_type": "code",
      "execution_count": 20,
      "id": "65c92601-d32d-4326-b215-74953aee27f2",
      "metadata": {
        "id": "65c92601-d32d-4326-b215-74953aee27f2"
      },
      "outputs": [
        {
          "data": {
            "text/html": [
              "<div>\n",
              "<style scoped>\n",
              "    .dataframe tbody tr th:only-of-type {\n",
              "        vertical-align: middle;\n",
              "    }\n",
              "\n",
              "    .dataframe tbody tr th {\n",
              "        vertical-align: top;\n",
              "    }\n",
              "\n",
              "    .dataframe thead tr th {\n",
              "        text-align: left;\n",
              "    }\n",
              "\n",
              "    .dataframe thead tr:last-of-type th {\n",
              "        text-align: right;\n",
              "    }\n",
              "</style>\n",
              "<table border=\"1\" class=\"dataframe\">\n",
              "  <thead>\n",
              "    <tr>\n",
              "      <th></th>\n",
              "      <th>Die Number</th>\n",
              "      <th>Die Number</th>\n",
              "    </tr>\n",
              "    <tr>\n",
              "      <th></th>\n",
              "      <th>0</th>\n",
              "      <th>1</th>\n",
              "    </tr>\n",
              "    <tr>\n",
              "      <th>Roll Number</th>\n",
              "      <th></th>\n",
              "      <th></th>\n",
              "    </tr>\n",
              "  </thead>\n",
              "  <tbody>\n",
              "    <tr>\n",
              "      <th>0</th>\n",
              "      <td>H</td>\n",
              "      <td>T</td>\n",
              "    </tr>\n",
              "    <tr>\n",
              "      <th>1</th>\n",
              "      <td>H</td>\n",
              "      <td>T</td>\n",
              "    </tr>\n",
              "    <tr>\n",
              "      <th>2</th>\n",
              "      <td>H</td>\n",
              "      <td>T</td>\n",
              "    </tr>\n",
              "    <tr>\n",
              "      <th>3</th>\n",
              "      <td>H</td>\n",
              "      <td>H</td>\n",
              "    </tr>\n",
              "    <tr>\n",
              "      <th>4</th>\n",
              "      <td>T</td>\n",
              "      <td>T</td>\n",
              "    </tr>\n",
              "    <tr>\n",
              "      <th>...</th>\n",
              "      <td>...</td>\n",
              "      <td>...</td>\n",
              "    </tr>\n",
              "    <tr>\n",
              "      <th>995</th>\n",
              "      <td>H</td>\n",
              "      <td>T</td>\n",
              "    </tr>\n",
              "    <tr>\n",
              "      <th>996</th>\n",
              "      <td>T</td>\n",
              "      <td>T</td>\n",
              "    </tr>\n",
              "    <tr>\n",
              "      <th>997</th>\n",
              "      <td>T</td>\n",
              "      <td>H</td>\n",
              "    </tr>\n",
              "    <tr>\n",
              "      <th>998</th>\n",
              "      <td>T</td>\n",
              "      <td>T</td>\n",
              "    </tr>\n",
              "    <tr>\n",
              "      <th>999</th>\n",
              "      <td>H</td>\n",
              "      <td>T</td>\n",
              "    </tr>\n",
              "  </tbody>\n",
              "</table>\n",
              "<p>1000 rows × 2 columns</p>\n",
              "</div>"
            ],
            "text/plain": [
              "            Die Number Die Number\n",
              "                     0          1\n",
              "Roll Number                      \n",
              "0                    H          T\n",
              "1                    H          T\n",
              "2                    H          T\n",
              "3                    H          H\n",
              "4                    T          T\n",
              "...                ...        ...\n",
              "995                  H          T\n",
              "996                  T          T\n",
              "997                  T          H\n",
              "998                  T          T\n",
              "999                  H          T\n",
              "\n",
              "[1000 rows x 2 columns]"
            ]
          },
          "execution_count": 20,
          "metadata": {},
          "output_type": "execute_result"
        }
      ],
      "source": [
        "game1 = Game([fair_coin, fair_coin])\n",
        "game1.play(1000)\n",
        "game1.show_results('narrow')"
      ]
    },
    {
      "cell_type": "markdown",
      "id": "7d9c3dc8-22c1-4cae-81fb-d68d774a05d1",
      "metadata": {
        "id": "7d9c3dc8-22c1-4cae-81fb-d68d774a05d1"
      },
      "source": [
        "Task 3. Play another game (using a new Game object) of $1000$ flips, this time using two unfair dice and one fair die. For the second unfair die, you can use the same die object twice in the list of dice you pass to the Game object.\n",
        "\n",
        "- New game object created (1).\n",
        "- Play method called correclty and without error (1)."
      ]
    },
    {
      "cell_type": "code",
      "execution_count": 21,
      "id": "d4098bed-1eb2-4084-8d5e-9fda07c3be43",
      "metadata": {
        "id": "d4098bed-1eb2-4084-8d5e-9fda07c3be43"
      },
      "outputs": [
        {
          "data": {
            "text/html": [
              "<div>\n",
              "<style scoped>\n",
              "    .dataframe tbody tr th:only-of-type {\n",
              "        vertical-align: middle;\n",
              "    }\n",
              "\n",
              "    .dataframe tbody tr th {\n",
              "        vertical-align: top;\n",
              "    }\n",
              "\n",
              "    .dataframe thead tr th {\n",
              "        text-align: left;\n",
              "    }\n",
              "\n",
              "    .dataframe thead tr:last-of-type th {\n",
              "        text-align: right;\n",
              "    }\n",
              "</style>\n",
              "<table border=\"1\" class=\"dataframe\">\n",
              "  <thead>\n",
              "    <tr>\n",
              "      <th></th>\n",
              "      <th>Die Number</th>\n",
              "      <th>Die Number</th>\n",
              "      <th>Die Number</th>\n",
              "    </tr>\n",
              "    <tr>\n",
              "      <th></th>\n",
              "      <th>0</th>\n",
              "      <th>1</th>\n",
              "      <th>2</th>\n",
              "    </tr>\n",
              "    <tr>\n",
              "      <th>Roll Number</th>\n",
              "      <th></th>\n",
              "      <th></th>\n",
              "      <th></th>\n",
              "    </tr>\n",
              "  </thead>\n",
              "  <tbody>\n",
              "    <tr>\n",
              "      <th>0</th>\n",
              "      <td>H</td>\n",
              "      <td>T</td>\n",
              "      <td>T</td>\n",
              "    </tr>\n",
              "    <tr>\n",
              "      <th>1</th>\n",
              "      <td>H</td>\n",
              "      <td>H</td>\n",
              "      <td>H</td>\n",
              "    </tr>\n",
              "    <tr>\n",
              "      <th>2</th>\n",
              "      <td>H</td>\n",
              "      <td>H</td>\n",
              "      <td>H</td>\n",
              "    </tr>\n",
              "    <tr>\n",
              "      <th>3</th>\n",
              "      <td>H</td>\n",
              "      <td>H</td>\n",
              "      <td>T</td>\n",
              "    </tr>\n",
              "    <tr>\n",
              "      <th>4</th>\n",
              "      <td>H</td>\n",
              "      <td>H</td>\n",
              "      <td>T</td>\n",
              "    </tr>\n",
              "    <tr>\n",
              "      <th>...</th>\n",
              "      <td>...</td>\n",
              "      <td>...</td>\n",
              "      <td>...</td>\n",
              "    </tr>\n",
              "    <tr>\n",
              "      <th>995</th>\n",
              "      <td>H</td>\n",
              "      <td>H</td>\n",
              "      <td>H</td>\n",
              "    </tr>\n",
              "    <tr>\n",
              "      <th>996</th>\n",
              "      <td>H</td>\n",
              "      <td>H</td>\n",
              "      <td>H</td>\n",
              "    </tr>\n",
              "    <tr>\n",
              "      <th>997</th>\n",
              "      <td>H</td>\n",
              "      <td>H</td>\n",
              "      <td>H</td>\n",
              "    </tr>\n",
              "    <tr>\n",
              "      <th>998</th>\n",
              "      <td>H</td>\n",
              "      <td>H</td>\n",
              "      <td>T</td>\n",
              "    </tr>\n",
              "    <tr>\n",
              "      <th>999</th>\n",
              "      <td>H</td>\n",
              "      <td>H</td>\n",
              "      <td>H</td>\n",
              "    </tr>\n",
              "  </tbody>\n",
              "</table>\n",
              "<p>1000 rows × 3 columns</p>\n",
              "</div>"
            ],
            "text/plain": [
              "            Die Number Die Number Die Number\n",
              "                     0          1          2\n",
              "Roll Number                                 \n",
              "0                    H          T          T\n",
              "1                    H          H          H\n",
              "2                    H          H          H\n",
              "3                    H          H          T\n",
              "4                    H          H          T\n",
              "...                ...        ...        ...\n",
              "995                  H          H          H\n",
              "996                  H          H          H\n",
              "997                  H          H          H\n",
              "998                  H          H          T\n",
              "999                  H          H          H\n",
              "\n",
              "[1000 rows x 3 columns]"
            ]
          },
          "execution_count": 21,
          "metadata": {},
          "output_type": "execute_result"
        }
      ],
      "source": [
        "game2 = Game([unfair_coin, unfair_coin, fair_coin])\n",
        "game2.play(1000)\n",
        "game2.show_results('narrow')"
      ]
    },
    {
      "cell_type": "markdown",
      "id": "f690ebfc-fe71-4eb2-976d-7ac80ca6c23f",
      "metadata": {
        "id": "f690ebfc-fe71-4eb2-976d-7ac80ca6c23f"
      },
      "source": [
        "Task 4. For each game, use an Analyzer object to determine the raw frequency of jackpots — i.e. getting either all $H$s or all $T$s.\n",
        "\n",
        "- Analyzer objects instantiated for both games (1).\n",
        "- Raw frequencies reported for both (1)."
      ]
    },
    {
      "cell_type": "code",
      "execution_count": 22,
      "id": "b26b8b7e-3be7-4476-a9a4-37d97536729e",
      "metadata": {
        "id": "b26b8b7e-3be7-4476-a9a4-37d97536729e"
      },
      "outputs": [
        {
          "name": "stdout",
          "output_type": "stream",
          "text": [
            "Jackpots in Game 1: 492\n",
            "Jackpots in Game 2: 370\n"
          ]
        }
      ],
      "source": [
        "# Instantiating Analyzer objects\n",
        "analyzer1 = Analyzer(game1)\n",
        "analyzer2 = Analyzer(game2)\n",
        "\n",
        "# Jackpots\n",
        "print(f\"Jackpots in Game 1: {analyzer1.jackpot()}\")\n",
        "print(f\"Jackpots in Game 2: {analyzer2.jackpot()}\")"
      ]
    },
    {
      "cell_type": "markdown",
      "id": "b73d233c-445e-40cd-8858-0c5e1f097105",
      "metadata": {
        "id": "b73d233c-445e-40cd-8858-0c5e1f097105"
      },
      "source": [
        "Task 5. For each analyzer, compute relative frequency as the number of jackpots over the total number of rolls.\n",
        "\n",
        "- Both relative frequencies computed (1)."
      ]
    },
    {
      "cell_type": "code",
      "execution_count": 23,
      "id": "e1e65d74",
      "metadata": {},
      "outputs": [
        {
          "name": "stdout",
          "output_type": "stream",
          "text": [
            "Relative frequency of jackpots in Game 1: 0.492\n",
            "Relative frequency of jackpots in Game 2: 0.37\n"
          ]
        }
      ],
      "source": [
        "print(f\"Relative frequency of jackpots in Game 1: {analyzer1.jackpot() / len(game1._play_results)}\")\n",
        "print(f\"Relative frequency of jackpots in Game 2: {analyzer2.jackpot() / len(game2._play_results)}\")"
      ]
    },
    {
      "cell_type": "markdown",
      "id": "a6e1e734-7f5c-4721-8ba4-2f3a424cf984",
      "metadata": {
        "id": "a6e1e734-7f5c-4721-8ba4-2f3a424cf984"
      },
      "source": [
        "Task 6. Show your results, comparing the two relative frequencies, in a simple bar chart.\n",
        "\n",
        "- Bar chart plotted and correct (1)."
      ]
    },
    {
      "cell_type": "code",
      "execution_count": 24,
      "id": "473fa67c-aa53-4aa3-a0b7-e8772b3f6ed3",
      "metadata": {
        "id": "473fa67c-aa53-4aa3-a0b7-e8772b3f6ed3"
      },
      "outputs": [
        {
          "data": {
            "image/png": "[encoded data removed]",
            "text/plain": [
              "<Figure size 640x480 with 1 Axes>"
            ]
          },
          "metadata": {},
          "output_type": "display_data"
        }
      ],
      "source": [
        "plt.bar(['2 Fair Coins', '1 Fair Coin & 2 Unfair Coins'], [(analyzer1.jackpot() / len(game1._play_results)), (analyzer2.jackpot() / len(game2._play_results))])\n",
        "plt.ylabel('Relative Frequency of Jackpots')\n",
        "plt.title('Comparison of Jackpot Frequencies')\n",
        "plt.ylim(0, 1)\n",
        "plt.show()"
      ]
    },
    {
      "cell_type": "markdown",
      "id": "725cfa5b-e4b7-47c9-86aa-8d9e1fe6c8c7",
      "metadata": {
        "id": "725cfa5b-e4b7-47c9-86aa-8d9e1fe6c8c7"
      },
      "source": [
        "## Scenario 2: A 6-sided Die (9)\n",
        "\n",
        "Task 1. Create three dice, each with six sides having the faces 1 through 6.\n",
        "\n",
        "- Three die objects created (1)."
      ]
    },
    {
      "cell_type": "code",
      "execution_count": 25,
      "id": "6a8bc611-325a-4e05-88d5-980e0a2cf7c5",
      "metadata": {
        "id": "6a8bc611-325a-4e05-88d5-980e0a2cf7c5"
      },
      "outputs": [],
      "source": [
        "die1 = Die(np.array([1, 2, 3, 4, 5, 6]))\n",
        "die2 = Die(np.array([1, 2, 3, 4, 5, 6]))\n",
        "die3 = Die(np.array([1, 2, 3, 4, 5, 6]))"
      ]
    },
    {
      "cell_type": "markdown",
      "id": "2ed3ad26-fbe9-43bd-9ad7-f683a4191d12",
      "metadata": {
        "id": "2ed3ad26-fbe9-43bd-9ad7-f683a4191d12"
      },
      "source": [
        "Task 2. Convert one of the dice to an unfair one by weighting the face $6$ five times more than the other weights (i.e. it has weight of 5 and the others a weight of 1 each).\n",
        "\n",
        "- Unfair die created with proper call to weight change method (1)."
      ]
    },
    {
      "cell_type": "code",
      "execution_count": 26,
      "id": "e33dd18f-7f90-456d-a680-61c08a328e21",
      "metadata": {
        "id": "e33dd18f-7f90-456d-a680-61c08a328e21"
      },
      "outputs": [
        {
          "data": {
            "text/html": [
              "<div>\n",
              "<style scoped>\n",
              "    .dataframe tbody tr th:only-of-type {\n",
              "        vertical-align: middle;\n",
              "    }\n",
              "\n",
              "    .dataframe tbody tr th {\n",
              "        vertical-align: top;\n",
              "    }\n",
              "\n",
              "    .dataframe thead th {\n",
              "        text-align: right;\n",
              "    }\n",
              "</style>\n",
              "<table border=\"1\" class=\"dataframe\">\n",
              "  <thead>\n",
              "    <tr style=\"text-align: right;\">\n",
              "      <th></th>\n",
              "      <th>weights</th>\n",
              "    </tr>\n",
              "  </thead>\n",
              "  <tbody>\n",
              "    <tr>\n",
              "      <th>1</th>\n",
              "      <td>1.0</td>\n",
              "    </tr>\n",
              "    <tr>\n",
              "      <th>2</th>\n",
              "      <td>1.0</td>\n",
              "    </tr>\n",
              "    <tr>\n",
              "      <th>3</th>\n",
              "      <td>1.0</td>\n",
              "    </tr>\n",
              "    <tr>\n",
              "      <th>4</th>\n",
              "      <td>1.0</td>\n",
              "    </tr>\n",
              "    <tr>\n",
              "      <th>5</th>\n",
              "      <td>1.0</td>\n",
              "    </tr>\n",
              "    <tr>\n",
              "      <th>6</th>\n",
              "      <td>5.0</td>\n",
              "    </tr>\n",
              "  </tbody>\n",
              "</table>\n",
              "</div>"
            ],
            "text/plain": [
              "   weights\n",
              "1      1.0\n",
              "2      1.0\n",
              "3      1.0\n",
              "4      1.0\n",
              "5      1.0\n",
              "6      5.0"
            ]
          },
          "execution_count": 26,
          "metadata": {},
          "output_type": "execute_result"
        }
      ],
      "source": [
        "die1.change_weight(6, 5)\n",
        "die1.show()"
      ]
    },
    {
      "cell_type": "markdown",
      "id": "7f6c062a-4c5b-45b9-96b8-76a0354c7e47",
      "metadata": {
        "id": "7f6c062a-4c5b-45b9-96b8-76a0354c7e47"
      },
      "source": [
        "Task 3. Convert another of the dice to be unfair by weighting the face $1$ five times more than the others.\n",
        "\n",
        "- Unfair die created with proper call to weight change method (1)."
      ]
    },
    {
      "cell_type": "code",
      "execution_count": 27,
      "id": "01133a4e-6b06-4246-8d90-8e6d6995be51",
      "metadata": {
        "id": "01133a4e-6b06-4246-8d90-8e6d6995be51"
      },
      "outputs": [
        {
          "data": {
            "text/html": [
              "<div>\n",
              "<style scoped>\n",
              "    .dataframe tbody tr th:only-of-type {\n",
              "        vertical-align: middle;\n",
              "    }\n",
              "\n",
              "    .dataframe tbody tr th {\n",
              "        vertical-align: top;\n",
              "    }\n",
              "\n",
              "    .dataframe thead th {\n",
              "        text-align: right;\n",
              "    }\n",
              "</style>\n",
              "<table border=\"1\" class=\"dataframe\">\n",
              "  <thead>\n",
              "    <tr style=\"text-align: right;\">\n",
              "      <th></th>\n",
              "      <th>weights</th>\n",
              "    </tr>\n",
              "  </thead>\n",
              "  <tbody>\n",
              "    <tr>\n",
              "      <th>1</th>\n",
              "      <td>5.0</td>\n",
              "    </tr>\n",
              "    <tr>\n",
              "      <th>2</th>\n",
              "      <td>1.0</td>\n",
              "    </tr>\n",
              "    <tr>\n",
              "      <th>3</th>\n",
              "      <td>1.0</td>\n",
              "    </tr>\n",
              "    <tr>\n",
              "      <th>4</th>\n",
              "      <td>1.0</td>\n",
              "    </tr>\n",
              "    <tr>\n",
              "      <th>5</th>\n",
              "      <td>1.0</td>\n",
              "    </tr>\n",
              "    <tr>\n",
              "      <th>6</th>\n",
              "      <td>1.0</td>\n",
              "    </tr>\n",
              "  </tbody>\n",
              "</table>\n",
              "</div>"
            ],
            "text/plain": [
              "   weights\n",
              "1      5.0\n",
              "2      1.0\n",
              "3      1.0\n",
              "4      1.0\n",
              "5      1.0\n",
              "6      1.0"
            ]
          },
          "execution_count": 27,
          "metadata": {},
          "output_type": "execute_result"
        }
      ],
      "source": [
        "die2.change_weight(1, 5)\n",
        "die2.show()"
      ]
    },
    {
      "cell_type": "markdown",
      "id": "f0ed31cb-0a3c-4eb2-b85e-6ed6b2eb6e58",
      "metadata": {
        "id": "f0ed31cb-0a3c-4eb2-b85e-6ed6b2eb6e58"
      },
      "source": [
        "Task 4. Play a game of $10000$ rolls with $5$ fair dice.\n",
        "\n",
        "- Game class properly instantiated (1).\n",
        "- Play method called properly (1)."
      ]
    },
    {
      "cell_type": "code",
      "execution_count": 28,
      "id": "e92395a4-9ed8-4cb0-8c85-38768a784ffc",
      "metadata": {
        "id": "e92395a4-9ed8-4cb0-8c85-38768a784ffc"
      },
      "outputs": [
        {
          "data": {
            "text/html": [
              "<div>\n",
              "<style scoped>\n",
              "    .dataframe tbody tr th:only-of-type {\n",
              "        vertical-align: middle;\n",
              "    }\n",
              "\n",
              "    .dataframe tbody tr th {\n",
              "        vertical-align: top;\n",
              "    }\n",
              "\n",
              "    .dataframe thead tr th {\n",
              "        text-align: left;\n",
              "    }\n",
              "\n",
              "    .dataframe thead tr:last-of-type th {\n",
              "        text-align: right;\n",
              "    }\n",
              "</style>\n",
              "<table border=\"1\" class=\"dataframe\">\n",
              "  <thead>\n",
              "    <tr>\n",
              "      <th></th>\n",
              "      <th>Die Number</th>\n",
              "      <th>Die Number</th>\n",
              "      <th>Die Number</th>\n",
              "      <th>Die Number</th>\n",
              "      <th>Die Number</th>\n",
              "    </tr>\n",
              "    <tr>\n",
              "      <th></th>\n",
              "      <th>0</th>\n",
              "      <th>1</th>\n",
              "      <th>2</th>\n",
              "      <th>3</th>\n",
              "      <th>4</th>\n",
              "    </tr>\n",
              "    <tr>\n",
              "      <th>Roll Number</th>\n",
              "      <th></th>\n",
              "      <th></th>\n",
              "      <th></th>\n",
              "      <th></th>\n",
              "      <th></th>\n",
              "    </tr>\n",
              "  </thead>\n",
              "  <tbody>\n",
              "    <tr>\n",
              "      <th>0</th>\n",
              "      <td>3</td>\n",
              "      <td>3</td>\n",
              "      <td>5</td>\n",
              "      <td>5</td>\n",
              "      <td>3</td>\n",
              "    </tr>\n",
              "    <tr>\n",
              "      <th>1</th>\n",
              "      <td>1</td>\n",
              "      <td>5</td>\n",
              "      <td>4</td>\n",
              "      <td>3</td>\n",
              "      <td>2</td>\n",
              "    </tr>\n",
              "    <tr>\n",
              "      <th>2</th>\n",
              "      <td>2</td>\n",
              "      <td>5</td>\n",
              "      <td>2</td>\n",
              "      <td>4</td>\n",
              "      <td>2</td>\n",
              "    </tr>\n",
              "    <tr>\n",
              "      <th>3</th>\n",
              "      <td>2</td>\n",
              "      <td>4</td>\n",
              "      <td>1</td>\n",
              "      <td>4</td>\n",
              "      <td>5</td>\n",
              "    </tr>\n",
              "    <tr>\n",
              "      <th>4</th>\n",
              "      <td>2</td>\n",
              "      <td>3</td>\n",
              "      <td>1</td>\n",
              "      <td>2</td>\n",
              "      <td>1</td>\n",
              "    </tr>\n",
              "    <tr>\n",
              "      <th>...</th>\n",
              "      <td>...</td>\n",
              "      <td>...</td>\n",
              "      <td>...</td>\n",
              "      <td>...</td>\n",
              "      <td>...</td>\n",
              "    </tr>\n",
              "    <tr>\n",
              "      <th>9995</th>\n",
              "      <td>3</td>\n",
              "      <td>5</td>\n",
              "      <td>6</td>\n",
              "      <td>1</td>\n",
              "      <td>4</td>\n",
              "    </tr>\n",
              "    <tr>\n",
              "      <th>9996</th>\n",
              "      <td>6</td>\n",
              "      <td>6</td>\n",
              "      <td>3</td>\n",
              "      <td>4</td>\n",
              "      <td>2</td>\n",
              "    </tr>\n",
              "    <tr>\n",
              "      <th>9997</th>\n",
              "      <td>6</td>\n",
              "      <td>5</td>\n",
              "      <td>1</td>\n",
              "      <td>1</td>\n",
              "      <td>6</td>\n",
              "    </tr>\n",
              "    <tr>\n",
              "      <th>9998</th>\n",
              "      <td>3</td>\n",
              "      <td>1</td>\n",
              "      <td>1</td>\n",
              "      <td>4</td>\n",
              "      <td>2</td>\n",
              "    </tr>\n",
              "    <tr>\n",
              "      <th>9999</th>\n",
              "      <td>3</td>\n",
              "      <td>5</td>\n",
              "      <td>6</td>\n",
              "      <td>4</td>\n",
              "      <td>4</td>\n",
              "    </tr>\n",
              "  </tbody>\n",
              "</table>\n",
              "<p>10000 rows × 5 columns</p>\n",
              "</div>"
            ],
            "text/plain": [
              "            Die Number Die Number Die Number Die Number Die Number\n",
              "                     0          1          2          3          4\n",
              "Roll Number                                                       \n",
              "0                    3          3          5          5          3\n",
              "1                    1          5          4          3          2\n",
              "2                    2          5          2          4          2\n",
              "3                    2          4          1          4          5\n",
              "4                    2          3          1          2          1\n",
              "...                ...        ...        ...        ...        ...\n",
              "9995                 3          5          6          1          4\n",
              "9996                 6          6          3          4          2\n",
              "9997                 6          5          1          1          6\n",
              "9998                 3          1          1          4          2\n",
              "9999                 3          5          6          4          4\n",
              "\n",
              "[10000 rows x 5 columns]"
            ]
          },
          "execution_count": 28,
          "metadata": {},
          "output_type": "execute_result"
        }
      ],
      "source": [
        "game3 = Game([die3, die3, die3, die3, die3])\n",
        "game3.play(10000)\n",
        "game3.show_results('narrow')"
      ]
    },
    {
      "cell_type": "markdown",
      "id": "7814b402-46a4-40e5-8141-20e05c3e646b",
      "metadata": {
        "id": "7814b402-46a4-40e5-8141-20e05c3e646b"
      },
      "source": [
        "Task 5. Play another game of $10000$ rolls, this time with $2$ unfair dice, one as defined in steps #2 and #3 respectively, and $3$ fair dice.\n",
        "\n",
        "- Game class properly instantiated (1).\n",
        "- Play method called properly (1)."
      ]
    },
    {
      "cell_type": "code",
      "execution_count": 29,
      "id": "7cd58fba-b2a5-4d5d-bc6d-2a7a68d18c4f",
      "metadata": {
        "id": "7cd58fba-b2a5-4d5d-bc6d-2a7a68d18c4f"
      },
      "outputs": [
        {
          "data": {
            "text/html": [
              "<div>\n",
              "<style scoped>\n",
              "    .dataframe tbody tr th:only-of-type {\n",
              "        vertical-align: middle;\n",
              "    }\n",
              "\n",
              "    .dataframe tbody tr th {\n",
              "        vertical-align: top;\n",
              "    }\n",
              "\n",
              "    .dataframe thead tr th {\n",
              "        text-align: left;\n",
              "    }\n",
              "\n",
              "    .dataframe thead tr:last-of-type th {\n",
              "        text-align: right;\n",
              "    }\n",
              "</style>\n",
              "<table border=\"1\" class=\"dataframe\">\n",
              "  <thead>\n",
              "    <tr>\n",
              "      <th></th>\n",
              "      <th>Die Number</th>\n",
              "      <th>Die Number</th>\n",
              "      <th>Die Number</th>\n",
              "      <th>Die Number</th>\n",
              "      <th>Die Number</th>\n",
              "    </tr>\n",
              "    <tr>\n",
              "      <th></th>\n",
              "      <th>0</th>\n",
              "      <th>1</th>\n",
              "      <th>2</th>\n",
              "      <th>3</th>\n",
              "      <th>4</th>\n",
              "    </tr>\n",
              "    <tr>\n",
              "      <th>Roll Number</th>\n",
              "      <th></th>\n",
              "      <th></th>\n",
              "      <th></th>\n",
              "      <th></th>\n",
              "      <th></th>\n",
              "    </tr>\n",
              "  </thead>\n",
              "  <tbody>\n",
              "    <tr>\n",
              "      <th>0</th>\n",
              "      <td>6</td>\n",
              "      <td>1</td>\n",
              "      <td>4</td>\n",
              "      <td>2</td>\n",
              "      <td>5</td>\n",
              "    </tr>\n",
              "    <tr>\n",
              "      <th>1</th>\n",
              "      <td>2</td>\n",
              "      <td>1</td>\n",
              "      <td>5</td>\n",
              "      <td>4</td>\n",
              "      <td>1</td>\n",
              "    </tr>\n",
              "    <tr>\n",
              "      <th>2</th>\n",
              "      <td>6</td>\n",
              "      <td>1</td>\n",
              "      <td>4</td>\n",
              "      <td>5</td>\n",
              "      <td>1</td>\n",
              "    </tr>\n",
              "    <tr>\n",
              "      <th>3</th>\n",
              "      <td>1</td>\n",
              "      <td>2</td>\n",
              "      <td>1</td>\n",
              "      <td>2</td>\n",
              "      <td>2</td>\n",
              "    </tr>\n",
              "    <tr>\n",
              "      <th>4</th>\n",
              "      <td>1</td>\n",
              "      <td>3</td>\n",
              "      <td>2</td>\n",
              "      <td>6</td>\n",
              "      <td>6</td>\n",
              "    </tr>\n",
              "    <tr>\n",
              "      <th>...</th>\n",
              "      <td>...</td>\n",
              "      <td>...</td>\n",
              "      <td>...</td>\n",
              "      <td>...</td>\n",
              "      <td>...</td>\n",
              "    </tr>\n",
              "    <tr>\n",
              "      <th>9995</th>\n",
              "      <td>4</td>\n",
              "      <td>2</td>\n",
              "      <td>3</td>\n",
              "      <td>4</td>\n",
              "      <td>5</td>\n",
              "    </tr>\n",
              "    <tr>\n",
              "      <th>9996</th>\n",
              "      <td>4</td>\n",
              "      <td>1</td>\n",
              "      <td>6</td>\n",
              "      <td>3</td>\n",
              "      <td>3</td>\n",
              "    </tr>\n",
              "    <tr>\n",
              "      <th>9997</th>\n",
              "      <td>5</td>\n",
              "      <td>1</td>\n",
              "      <td>6</td>\n",
              "      <td>4</td>\n",
              "      <td>5</td>\n",
              "    </tr>\n",
              "    <tr>\n",
              "      <th>9998</th>\n",
              "      <td>5</td>\n",
              "      <td>1</td>\n",
              "      <td>2</td>\n",
              "      <td>1</td>\n",
              "      <td>2</td>\n",
              "    </tr>\n",
              "    <tr>\n",
              "      <th>9999</th>\n",
              "      <td>6</td>\n",
              "      <td>5</td>\n",
              "      <td>1</td>\n",
              "      <td>2</td>\n",
              "      <td>1</td>\n",
              "    </tr>\n",
              "  </tbody>\n",
              "</table>\n",
              "<p>10000 rows × 5 columns</p>\n",
              "</div>"
            ],
            "text/plain": [
              "            Die Number Die Number Die Number Die Number Die Number\n",
              "                     0          1          2          3          4\n",
              "Roll Number                                                       \n",
              "0                    6          1          4          2          5\n",
              "1                    2          1          5          4          1\n",
              "2                    6          1          4          5          1\n",
              "3                    1          2          1          2          2\n",
              "4                    1          3          2          6          6\n",
              "...                ...        ...        ...        ...        ...\n",
              "9995                 4          2          3          4          5\n",
              "9996                 4          1          6          3          3\n",
              "9997                 5          1          6          4          5\n",
              "9998                 5          1          2          1          2\n",
              "9999                 6          5          1          2          1\n",
              "\n",
              "[10000 rows x 5 columns]"
            ]
          },
          "execution_count": 29,
          "metadata": {},
          "output_type": "execute_result"
        }
      ],
      "source": [
        "game4 = Game([die1, die2, die3, die3, die3])\n",
        "game4.play(10000)\n",
        "game4.show_results('narrow')"
      ]
    },
    {
      "cell_type": "markdown",
      "id": "7b6cd372-2bb8-4df8-ade1-8f48bc300955",
      "metadata": {
        "id": "7b6cd372-2bb8-4df8-ade1-8f48bc300955"
      },
      "source": [
        "Task 6. For each game, use an Analyzer object to determine the relative frequency of jackpots and show your results, comparing the two relative frequencies, in a simple bar chart.\n",
        "\n",
        "- Jackpot methods called (1).\n",
        "- Graph produced (1)."
      ]
    },
    {
      "cell_type": "code",
      "execution_count": 30,
      "id": "bbdcf695-8937-406e-9b53-aa0b9ee3c59a",
      "metadata": {
        "id": "bbdcf695-8937-406e-9b53-aa0b9ee3c59a"
      },
      "outputs": [
        {
          "name": "stdout",
          "output_type": "stream",
          "text": [
            "Jackpots in Game 3: 8\n",
            "Jackpots in Game 4: 4\n",
            "Relative frequency of jackpots in Game 3: 0.0008\n",
            "Relative frequency of jackpots in Game 4: 0.0004\n"
          ]
        },
        {
          "data": {
            "image/png": "[encoded data removed]",
            "text/plain": [
              "<Figure size 640x480 with 1 Axes>"
            ]
          },
          "metadata": {},
          "output_type": "display_data"
        }
      ],
      "source": [
        "analyzer3 = Analyzer(game3)\n",
        "analyzer4 = Analyzer(game4)\n",
        "\n",
        "print(f\"Jackpots in Game 3: {analyzer3.jackpot()}\")\n",
        "print(f\"Jackpots in Game 4: {analyzer4.jackpot()}\")\n",
        "print(f\"Relative frequency of jackpots in Game 3: {analyzer3.jackpot() / len(game3._play_results)}\")\n",
        "print(f\"Relative frequency of jackpots in Game 4: {analyzer4.jackpot() / len(game4._play_results)}\")\n",
        "\n",
        "plt.bar(['5 Fair Dice', '3 Fair Dice & 2 Unfair Dice'], [(analyzer3.jackpot() / len(game3._play_results)), (analyzer4.jackpot() / len(game4._play_results))])\n",
        "plt.ylabel('Relative Frequency of Jackpots')\n",
        "plt.title('Comparison of Jackpot Frequencies')\n",
        "plt.show()"
      ]
    },
    {
      "cell_type": "markdown",
      "id": "9f04e9be-8fcf-4ea4-a391-6614608285f8",
      "metadata": {
        "id": "9f04e9be-8fcf-4ea4-a391-6614608285f8"
      },
      "source": [
        "## Scenario 3: Letters of the Alphabet (7)\n",
        "\n",
        "Task 1. Create a \"die\" of letters from $A$ to $Z$ with weights based on their frequency of usage as found in the data file `english_letters.txt`. Use the frequencies (i.e. raw counts) as weights.\n",
        "\n",
        "- Die correctly instantiated with source file data (1).\n",
        "- Weights properly applied using weight setting method (1)."
      ]
    },
    {
      "cell_type": "code",
      "execution_count": 31,
      "id": "b0ceb771-3cdf-4d8f-8c2c-020806bbb909",
      "metadata": {
        "id": "b0ceb771-3cdf-4d8f-8c2c-020806bbb909"
      },
      "outputs": [
        {
          "name": "stderr",
          "output_type": "stream",
          "text": [
            "<>:1: SyntaxWarning: invalid escape sequence '\\s'\n",
            "<>:1: SyntaxWarning: invalid escape sequence '\\s'\n",
            "/var/folders/wq/8fz1_7zj6znfftkyrxh6gy180000gn/T/ipykernel_48929/2305052061.py:1: SyntaxWarning: invalid escape sequence '\\s'\n",
            "  df = pd.read_csv('english_letters.txt', sep='\\s+', header=None) # 1st col is letters, 2nd col is weights\n"
          ]
        },
        {
          "data": {
            "text/html": [
              "<div>\n",
              "<style scoped>\n",
              "    .dataframe tbody tr th:only-of-type {\n",
              "        vertical-align: middle;\n",
              "    }\n",
              "\n",
              "    .dataframe tbody tr th {\n",
              "        vertical-align: top;\n",
              "    }\n",
              "\n",
              "    .dataframe thead th {\n",
              "        text-align: right;\n",
              "    }\n",
              "</style>\n",
              "<table border=\"1\" class=\"dataframe\">\n",
              "  <thead>\n",
              "    <tr style=\"text-align: right;\">\n",
              "      <th></th>\n",
              "      <th>weights</th>\n",
              "    </tr>\n",
              "  </thead>\n",
              "  <tbody>\n",
              "    <tr>\n",
              "      <th>E</th>\n",
              "      <td>529117365.0</td>\n",
              "    </tr>\n",
              "    <tr>\n",
              "      <th>T</th>\n",
              "      <td>390965105.0</td>\n",
              "    </tr>\n",
              "    <tr>\n",
              "      <th>A</th>\n",
              "      <td>374061888.0</td>\n",
              "    </tr>\n",
              "    <tr>\n",
              "      <th>O</th>\n",
              "      <td>326627740.0</td>\n",
              "    </tr>\n",
              "    <tr>\n",
              "      <th>I</th>\n",
              "      <td>320410057.0</td>\n",
              "    </tr>\n",
              "    <tr>\n",
              "      <th>N</th>\n",
              "      <td>313720540.0</td>\n",
              "    </tr>\n",
              "    <tr>\n",
              "      <th>S</th>\n",
              "      <td>294300210.0</td>\n",
              "    </tr>\n",
              "    <tr>\n",
              "      <th>R</th>\n",
              "      <td>277000841.0</td>\n",
              "    </tr>\n",
              "    <tr>\n",
              "      <th>H</th>\n",
              "      <td>216768975.0</td>\n",
              "    </tr>\n",
              "    <tr>\n",
              "      <th>L</th>\n",
              "      <td>183996130.0</td>\n",
              "    </tr>\n",
              "    <tr>\n",
              "      <th>D</th>\n",
              "      <td>169330528.0</td>\n",
              "    </tr>\n",
              "    <tr>\n",
              "      <th>C</th>\n",
              "      <td>138416451.0</td>\n",
              "    </tr>\n",
              "    <tr>\n",
              "      <th>U</th>\n",
              "      <td>117295780.0</td>\n",
              "    </tr>\n",
              "    <tr>\n",
              "      <th>M</th>\n",
              "      <td>110504544.0</td>\n",
              "    </tr>\n",
              "    <tr>\n",
              "      <th>F</th>\n",
              "      <td>95422055.0</td>\n",
              "    </tr>\n",
              "    <tr>\n",
              "      <th>G</th>\n",
              "      <td>91258980.0</td>\n",
              "    </tr>\n",
              "    <tr>\n",
              "      <th>P</th>\n",
              "      <td>90376747.0</td>\n",
              "    </tr>\n",
              "    <tr>\n",
              "      <th>W</th>\n",
              "      <td>79843664.0</td>\n",
              "    </tr>\n",
              "    <tr>\n",
              "      <th>Y</th>\n",
              "      <td>75294515.0</td>\n",
              "    </tr>\n",
              "    <tr>\n",
              "      <th>B</th>\n",
              "      <td>70195826.0</td>\n",
              "    </tr>\n",
              "    <tr>\n",
              "      <th>V</th>\n",
              "      <td>46337161.0</td>\n",
              "    </tr>\n",
              "    <tr>\n",
              "      <th>K</th>\n",
              "      <td>35373464.0</td>\n",
              "    </tr>\n",
              "    <tr>\n",
              "      <th>J</th>\n",
              "      <td>9613410.0</td>\n",
              "    </tr>\n",
              "    <tr>\n",
              "      <th>X</th>\n",
              "      <td>8369915.0</td>\n",
              "    </tr>\n",
              "    <tr>\n",
              "      <th>Z</th>\n",
              "      <td>4975847.0</td>\n",
              "    </tr>\n",
              "    <tr>\n",
              "      <th>Q</th>\n",
              "      <td>4550166.0</td>\n",
              "    </tr>\n",
              "  </tbody>\n",
              "</table>\n",
              "</div>"
            ],
            "text/plain": [
              "       weights\n",
              "E  529117365.0\n",
              "T  390965105.0\n",
              "A  374061888.0\n",
              "O  326627740.0\n",
              "I  320410057.0\n",
              "N  313720540.0\n",
              "S  294300210.0\n",
              "R  277000841.0\n",
              "H  216768975.0\n",
              "L  183996130.0\n",
              "D  169330528.0\n",
              "C  138416451.0\n",
              "U  117295780.0\n",
              "M  110504544.0\n",
              "F   95422055.0\n",
              "G   91258980.0\n",
              "P   90376747.0\n",
              "W   79843664.0\n",
              "Y   75294515.0\n",
              "B   70195826.0\n",
              "V   46337161.0\n",
              "K   35373464.0\n",
              "J    9613410.0\n",
              "X    8369915.0\n",
              "Z    4975847.0\n",
              "Q    4550166.0"
            ]
          },
          "execution_count": 31,
          "metadata": {},
          "output_type": "execute_result"
        }
      ],
      "source": [
        "df = pd.read_csv('english_letters.txt', sep='\\s+', header=None) # 1st col is letters, 2nd col is weights\n",
        "letter_die = Die(np.array(df[0]))\n",
        "for i in range(len(df)):\n",
        "    letter_die.change_weight(df.iloc[i, 0], float(df.iloc[i, 1]))\n",
        "letter_die.show()"
      ]
    },
    {
      "cell_type": "markdown",
      "id": "88e2e14a-6223-470a-a2c8-bca1120d7a5b",
      "metadata": {
        "id": "88e2e14a-6223-470a-a2c8-bca1120d7a5b"
      },
      "source": [
        "Task 2. Play a game involving $4$ of these dice with $1000$ rolls.\n",
        "\n",
        "- Game play method properly called (1)."
      ]
    },
    {
      "cell_type": "code",
      "execution_count": 32,
      "id": "2ae087cc-936d-4f1e-bddb-a7c179d139e0",
      "metadata": {
        "id": "2ae087cc-936d-4f1e-bddb-a7c179d139e0"
      },
      "outputs": [
        {
          "data": {
            "text/html": [
              "<div>\n",
              "<style scoped>\n",
              "    .dataframe tbody tr th:only-of-type {\n",
              "        vertical-align: middle;\n",
              "    }\n",
              "\n",
              "    .dataframe tbody tr th {\n",
              "        vertical-align: top;\n",
              "    }\n",
              "\n",
              "    .dataframe thead tr th {\n",
              "        text-align: left;\n",
              "    }\n",
              "\n",
              "    .dataframe thead tr:last-of-type th {\n",
              "        text-align: right;\n",
              "    }\n",
              "</style>\n",
              "<table border=\"1\" class=\"dataframe\">\n",
              "  <thead>\n",
              "    <tr>\n",
              "      <th></th>\n",
              "      <th>Die Number</th>\n",
              "      <th>Die Number</th>\n",
              "      <th>Die Number</th>\n",
              "      <th>Die Number</th>\n",
              "    </tr>\n",
              "    <tr>\n",
              "      <th></th>\n",
              "      <th>0</th>\n",
              "      <th>1</th>\n",
              "      <th>2</th>\n",
              "      <th>3</th>\n",
              "    </tr>\n",
              "    <tr>\n",
              "      <th>Roll Number</th>\n",
              "      <th></th>\n",
              "      <th></th>\n",
              "      <th></th>\n",
              "      <th></th>\n",
              "    </tr>\n",
              "  </thead>\n",
              "  <tbody>\n",
              "    <tr>\n",
              "      <th>0</th>\n",
              "      <td>S</td>\n",
              "      <td>E</td>\n",
              "      <td>T</td>\n",
              "      <td>B</td>\n",
              "    </tr>\n",
              "    <tr>\n",
              "      <th>1</th>\n",
              "      <td>H</td>\n",
              "      <td>L</td>\n",
              "      <td>O</td>\n",
              "      <td>S</td>\n",
              "    </tr>\n",
              "    <tr>\n",
              "      <th>2</th>\n",
              "      <td>R</td>\n",
              "      <td>O</td>\n",
              "      <td>T</td>\n",
              "      <td>I</td>\n",
              "    </tr>\n",
              "    <tr>\n",
              "      <th>3</th>\n",
              "      <td>O</td>\n",
              "      <td>Y</td>\n",
              "      <td>A</td>\n",
              "      <td>N</td>\n",
              "    </tr>\n",
              "    <tr>\n",
              "      <th>4</th>\n",
              "      <td>O</td>\n",
              "      <td>A</td>\n",
              "      <td>H</td>\n",
              "      <td>O</td>\n",
              "    </tr>\n",
              "    <tr>\n",
              "      <th>...</th>\n",
              "      <td>...</td>\n",
              "      <td>...</td>\n",
              "      <td>...</td>\n",
              "      <td>...</td>\n",
              "    </tr>\n",
              "    <tr>\n",
              "      <th>995</th>\n",
              "      <td>L</td>\n",
              "      <td>E</td>\n",
              "      <td>S</td>\n",
              "      <td>E</td>\n",
              "    </tr>\n",
              "    <tr>\n",
              "      <th>996</th>\n",
              "      <td>I</td>\n",
              "      <td>A</td>\n",
              "      <td>D</td>\n",
              "      <td>D</td>\n",
              "    </tr>\n",
              "    <tr>\n",
              "      <th>997</th>\n",
              "      <td>O</td>\n",
              "      <td>V</td>\n",
              "      <td>N</td>\n",
              "      <td>M</td>\n",
              "    </tr>\n",
              "    <tr>\n",
              "      <th>998</th>\n",
              "      <td>T</td>\n",
              "      <td>L</td>\n",
              "      <td>S</td>\n",
              "      <td>N</td>\n",
              "    </tr>\n",
              "    <tr>\n",
              "      <th>999</th>\n",
              "      <td>O</td>\n",
              "      <td>T</td>\n",
              "      <td>H</td>\n",
              "      <td>R</td>\n",
              "    </tr>\n",
              "  </tbody>\n",
              "</table>\n",
              "<p>1000 rows × 4 columns</p>\n",
              "</div>"
            ],
            "text/plain": [
              "            Die Number Die Number Die Number Die Number\n",
              "                     0          1          2          3\n",
              "Roll Number                                            \n",
              "0                    S          E          T          B\n",
              "1                    H          L          O          S\n",
              "2                    R          O          T          I\n",
              "3                    O          Y          A          N\n",
              "4                    O          A          H          O\n",
              "...                ...        ...        ...        ...\n",
              "995                  L          E          S          E\n",
              "996                  I          A          D          D\n",
              "997                  O          V          N          M\n",
              "998                  T          L          S          N\n",
              "999                  O          T          H          R\n",
              "\n",
              "[1000 rows x 4 columns]"
            ]
          },
          "execution_count": 32,
          "metadata": {},
          "output_type": "execute_result"
        }
      ],
      "source": [
        "letter_game1 = Game([letter_die, letter_die, letter_die, letter_die])\n",
        "letter_game1.play(1000)\n",
        "letter_game1.show_results('narrow')"
      ]
    },
    {
      "cell_type": "markdown",
      "id": "3b9ff800-bf1f-4f66-9d7f-ff57a648e9f0",
      "metadata": {
        "id": "3b9ff800-bf1f-4f66-9d7f-ff57a648e9f0"
      },
      "source": [
        "Task 3. Determine how many permutations in your results are actual English words, based on the vocabulary found in `scrabble_words.txt`.\n",
        "\n",
        "- Use permutation method (1).\n",
        "- Get count as difference between permutations and vocabulary (1)."
      ]
    },
    {
      "cell_type": "code",
      "execution_count": 33,
      "id": "cbc714b9",
      "metadata": {},
      "outputs": [
        {
          "name": "stdout",
          "output_type": "stream",
          "text": [
            "Number of permutations from 4-dice game that are English words: 50\n"
          ]
        }
      ],
      "source": [
        "# Permutation DataFrame\n",
        "letter_analyzer1 = Analyzer(letter_game1)\n",
        "perms1 = letter_analyzer1.perm_count()\n",
        "\n",
        "# Finding permutations that are words\n",
        "vocab = pd.read_csv('scrabble_words.txt', header=None)\n",
        "perms_results1 = [''.join(tup) for tup in perms1.index] # MultiIndex into strings\n",
        "vocab_words = set(vocab[0].astype(str).str.upper()) # Column intro strings\n",
        "matching_words1 = [word for word in perms_results1 if word in vocab_words] # List of found words\n",
        "\n",
        "print(f\"Number of permutations from 4-dice game that are English words: {len(matching_words1)}\")"
      ]
    },
    {
      "cell_type": "markdown",
      "id": "fcf068cf-381a-4b3e-ac3a-0510eb4dbdb0",
      "metadata": {
        "id": "fcf068cf-381a-4b3e-ac3a-0510eb4dbdb0"
      },
      "source": [
        "Task 4. Repeat steps #2 and #3, this time with $5$ dice. How many actual words does this produce? Which produces more?\n",
        "\n",
        "- Successfully repreats steps (1).\n",
        "- Identifies parameter with most found words (1)."
      ]
    },
    {
      "cell_type": "code",
      "execution_count": 34,
      "id": "31686ead",
      "metadata": {},
      "outputs": [
        {
          "name": "stdout",
          "output_type": "stream",
          "text": [
            "Number of permutations from 5-dice game that are English words: 12\n",
            "The 4-dice game produced more words than the 5-dice game.\n"
          ]
        }
      ],
      "source": [
        "# 5-dice Game and permutation DataFrame\n",
        "letter_game2 = Game([letter_die, letter_die, letter_die, letter_die, letter_die])\n",
        "letter_game2.play(1000)\n",
        "letter_analyzer2 = Analyzer(letter_game2)\n",
        "perms2 = letter_analyzer2.perm_count()\n",
        "perms_results2 = [''.join(tup) for tup in perms2.index] # MultiIndex into strings\n",
        "matching_words2 = [word for word in perms_results2 if word in vocab_words] # List of found words\n",
        "\n",
        "print(f\"Number of permutations from 5-dice game that are English words: {len(matching_words2)}\")\n",
        "\n",
        "# Identifies game with more words\n",
        "if len(matching_words1) > len(matching_words2):\n",
        "    print(\"The 4-dice game produced more words than the 5-dice game.\")\n",
        "elif len(matching_words2) > len(matching_words1):\n",
        "    print(\"The 5-dice game produced more words than the 4-dice game.\")\n",
        "else:\n",
        "    print(\"The 4-dice game and 5-dice game produced the same number of words.\")"
      ]
    }
  ],
  "metadata": {
    "colab": {
      "provenance": []
    },
    "kernelspec": {
      "display_name": "ds6001",
      "language": "python",
      "name": "python3"
    },
    "language_info": {
      "codemirror_mode": {
        "name": "ipython",
        "version": 3
      },
      "file_extension": ".py",
      "mimetype": "text/x-python",
      "name": "python",
      "nbconvert_exporter": "python",
      "pygments_lexer": "ipython3",
      "version": "3.13.2"
    },
    "toc-autonumbering": true
  },
  "nbformat": 4,
  "nbformat_minor": 5
}
