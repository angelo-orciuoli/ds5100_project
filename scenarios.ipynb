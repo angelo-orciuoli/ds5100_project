{
 "cells": [
  {
   "cell_type": "markdown",
   "id": "intro",
   "metadata": {},
   "source": [
    "# Monte Carlo Dice Simulator - Demonstration Scenarios\n",
    "\n",
    "This notebook demonstrates the capabilities of the Monte Carlo dice simulation package through three comprehensive scenarios. Each scenario showcases different aspects of probability theory and statistical analysis using the `Die`, `Game`, and `Analyzer` classes.\n",
    "\n",
    "The simulations explore:\n",
    "- **Fair vs. Unfair Dice**: How weighted dice affect probability distributions\n",
    "- **Jackpot Analysis**: Statistical patterns in multi-die games\n",
    "- **Real-world Applications**: Using letter frequencies to generate English words\n",
    "\n",
    "Run each cell sequentially to see the Monte Carlo simulation in action."
   ]
  },
  {
   "cell_type": "code",
   "execution_count": null,
   "id": "imports",
   "metadata": {},
   "outputs": [],
   "source": [
    "# Import required libraries and Monte Carlo simulator components\n",
    "import numpy as np\n",
    "import pandas as pd\n",
    "import matplotlib.pyplot as plt\n",
    "from montecarlo.die import Die\n",
    "from montecarlo.game import Game\n",
    "from montecarlo.analyzer import Analyzer\n",
    "\n",
    "# Set up matplotlib for better plots\n",
    "plt.style.use('default')\n",
    "plt.rcParams['figure.figsize'] = (10, 6)"
   ]
  },
  {
   "cell_type": "markdown",
   "id": "scenario1-header",
   "metadata": {},
   "source": [
    "## Scenario 1: Fair vs. Unfair Coin Simulation\n",
    "\n",
    "In this scenario, we'll explore how weighted dice affect probability distributions by comparing fair and unfair coins. This demonstrates the core principles of Monte Carlo simulation and how bias affects outcomes."
   ]
  },
  {
   "cell_type": "markdown",
   "id": "scenario1-task1",
   "metadata": {},
   "source": [
    "### Creating Fair and Unfair Coins\n",
    "\n",
    "We'll create two types of coins:\n",
    "- A **fair coin** with equal probability for heads (H) and tails (T)\n",
    "- An **unfair coin** where heads has 5x the weight of tails"
   ]
  },
  {
   "cell_type": "code",
   "execution_count": null,
   "id": "scenario1-coins",
   "metadata": {},
   "outputs": [],
   "source": [
    "# Create a fair coin with equal weights\n",
    "fair_coin = Die(np.array(['H', 'T']))\n",
    "print(\"Fair coin:\")\n",
    "print(fair_coin.show())\n",
    "\n",
    "# Create an unfair coin with weighted heads\n",
    "unfair_coin = Die(np.array(['H', 'T']))\n",
    "unfair_coin.change_weight('H', 5)  # Heads is 5x more likely\n",
    "print(\"\\nUnfair coin (H weighted 5x):\")\n",
    "print(unfair_coin.show())"
   ]
  },
  {
   "cell_type": "markdown",
   "id": "scenario1-task2",
   "metadata": {},
   "source": [
    "### Simulation 1: Two Fair Coins\n",
    "\n",
    "Let's simulate flipping two fair coins 1000 times and analyze the results."
   ]
  },
  {
   "cell_type": "code",
   "execution_count": null,
   "id": "scenario1-fair-game",
   "metadata": {},
   "outputs": [],
   "source": [
    "# Play a game with two fair coins\n",
    "fair_game = Game([fair_coin, fair_coin])\n",
    "fair_game.play(1000)\n",
    "\n",
    "# Display the first 10 results\n",
    "print(\"First 10 results of fair coin game:\")\n",
    "print(fair_game.show_results('narrow').head(10))"
   ]
  },
  {
   "cell_type": "markdown",
   "id": "scenario1-task3",
   "metadata": {},
   "source": [
    "### Simulation 2: Mixed Fair and Unfair Coins\n",
    "\n",
    "Now let's simulate a game with two unfair coins and one fair coin to see how bias affects the overall distribution."
   ]
  },
  {
   "cell_type": "code",
   "execution_count": null,
   "id": "scenario1-mixed-game",
   "metadata": {},
   "outputs": [],
   "source": [
    "# Play a game with two unfair coins and one fair coin\n",
    "mixed_game = Game([unfair_coin, unfair_coin, fair_coin])\n",
    "mixed_game.play(1000)\n",
    "\n",
    "# Display the first 10 results\n",
    "print(\"First 10 results of mixed coin game:\")\n",
    "print(mixed_game.show_results('narrow').head(10))"
   ]
  },
  {
   "cell_type": "markdown",
   "id": "scenario1-analysis",
   "metadata": {},
   "source": [
    "### Jackpot Analysis\n",
    "\n",
    "A \"jackpot\" occurs when all dice show the same face. Let's analyze how often this happens in each scenario and compare the results."
   ]
  },
  {
   "cell_type": "code",
   "execution_count": null,
   "id": "scenario1-jackpots",
   "metadata": {},
   "outputs": [],
   "source": [
    "# Analyze jackpots in both games\n",
    "fair_analyzer = Analyzer(fair_game)\n",
    "mixed_analyzer = Analyzer(mixed_game)\n",
    "\n",
    "# Calculate jackpot frequencies\n",
    "fair_jackpots = fair_analyzer.jackpot()\n",
    "mixed_jackpots = mixed_analyzer.jackpot()\n",
    "\n",
    "# Calculate relative frequencies\n",
    "fair_relative = fair_jackpots / len(fair_game.show_results())\n",
    "mixed_relative = mixed_jackpots / len(mixed_game.show_results())\n",
    "\n",
    "print(f\"Fair coins - Jackpots: {fair_jackpots}, Relative frequency: {fair_relative:.3f}\")\n",
    "print(f\"Mixed coins - Jackpots: {mixed_jackpots}, Relative frequency: {mixed_relative:.3f}\")\n",
    "\n",
    "# Visualize the comparison\n",
    "plt.figure(figsize=(10, 6))\n",
    "categories = ['2 Fair Coins', '2 Unfair + 1 Fair Coin']\n",
    "frequencies = [fair_relative, mixed_relative]\n",
    "\n",
    "bars = plt.bar(categories, frequencies, color=['skyblue', 'lightcoral'], alpha=0.8)\n",
    "plt.ylabel('Relative Frequency of Jackpots')\n",
    "plt.title('Jackpot Frequency Comparison: Fair vs. Mixed Coin Games')\n",
    "plt.ylim(0, max(frequencies) * 1.2)\n",
    "\n",
    "# Add value labels on bars\n",
    "for bar, freq in zip(bars, frequencies):\n",
    "    plt.text(bar.get_x() + bar.get_width()/2, bar.get_height() + 0.01, \n",
    "             f'{freq:.3f}', ha='center', va='bottom')\n",
    "\n",
    "plt.tight_layout()\n",
    "plt.show()\n",
    "\n",
    "print(f\"\\nInsight: The unfair coins bias toward heads increases the jackpot frequency by {((mixed_relative/fair_relative - 1) * 100):.1f}%\")"
   ]
  },
  {
   "cell_type": "markdown",
   "id": "scenario2-header",
   "metadata": {},
   "source": [
    "## Scenario 2: Six-Sided Dice Simulation\n",
    "\n",
    "This scenario explores more complex probability distributions using traditional six-sided dice with various weight configurations. We'll see how different biases affect jackpot probabilities in multi-die games."
   ]
  },
  {
   "cell_type": "markdown",
   "id": "scenario2-setup",
   "metadata": {},
   "source": [
    "### Creating Dice with Different Biases\n",
    "\n",
    "We'll create three types of dice:\n",
    "- **Fair die**: Equal probability for all faces (1-6)\n",
    "- **High-biased die**: Face 6 weighted 5x more than others\n",
    "- **Low-biased die**: Face 1 weighted 5x more than others"
   ]
  },
  {
   "cell_type": "code",
   "execution_count": null,
   "id": "scenario2-dice",
   "metadata": {},
   "outputs": [],
   "source": [
    "# Create three six-sided dice\n",
    "fair_die = Die(np.array([1, 2, 3, 4, 5, 6]))\n",
    "high_biased_die = Die(np.array([1, 2, 3, 4, 5, 6]))\n",
    "low_biased_die = Die(np.array([1, 2, 3, 4, 5, 6]))\n",
    "\n",
    "# Apply weights\n",
    "high_biased_die.change_weight(6, 5)  # Face 6 is 5x more likely\n",
    "low_biased_die.change_weight(1, 5)   # Face 1 is 5x more likely\n",
    "\n",
    "print(\"Fair die:\")\n",
    "print(fair_die.show())\n",
    "print(\"\\nHigh-biased die (6 weighted 5x):\")\n",
    "print(high_biased_die.show())\n",
    "print(\"\\nLow-biased die (1 weighted 5x):\")\n",
    "print(low_biased_die.show())"
   ]
  },
  {
   "cell_type": "markdown",
   "id": "scenario2-fair-game",
   "metadata": {},
   "source": [
    "### Simulation 1: Five Fair Dice\n",
    "\n",
    "Let's simulate rolling five fair dice 10,000 times to establish a baseline for jackpot frequency."
   ]
  },
  {
   "cell_type": "code",
   "execution_count": null,
   "id": "scenario2-fair",
   "metadata": {},
   "outputs": [],
   "source": [
    "# Game with five fair dice\n",
    "fair_dice_game = Game([fair_die, fair_die, fair_die, fair_die, fair_die])\n",
    "fair_dice_game.play(10000)\n",
    "\n",
    "print(\"Sample results from fair dice game:\")\n",
    "print(fair_dice_game.show_results('narrow').head(10))"
   ]
  },
  {
   "cell_type": "markdown",
   "id": "scenario2-mixed-game",
   "metadata": {},
   "source": [
    "### Simulation 2: Mixed Dice Configuration\n",
    "\n",
    "Now let's simulate with 2 unfair dice (one high-biased, one low-biased) and 3 fair dice."
   ]
  },
  {
   "cell_type": "code",
   "execution_count": null,
   "id": "scenario2-mixed",
   "metadata": {},
   "outputs": [],
   "source": [
    "# Game with mixed dice: 2 unfair + 3 fair\n",
    "mixed_dice_game = Game([high_biased_die, low_biased_die, fair_die, fair_die, fair_die])\n",
    "mixed_dice_game.play(10000)\n",
    "\n",
    "print(\"Sample results from mixed dice game:\")\n",
    "print(mixed_dice_game.show_results('narrow').head(10))"
   ]
  },
  {
   "cell_type": "markdown",
   "id": "scenario2-analysis",
   "metadata": {},
   "source": [
    "### Comparative Analysis\n",
    "\n",
    "Let's analyze and compare the jackpot frequencies between fair and mixed dice configurations."
   ]
  },
  {
   "cell_type": "code",
   "execution_count": null,
   "id": "scenario2-comparison",
   "metadata": {},
   "outputs": [],
   "source": [
    "# Analyze both games\n",
    "fair_dice_analyzer = Analyzer(fair_dice_game)\n",
    "mixed_dice_analyzer = Analyzer(mixed_dice_game)\n",
    "\n",
    "# Calculate jackpot statistics\n",
    "fair_dice_jackpots = fair_dice_analyzer.jackpot()\n",
    "mixed_dice_jackpots = mixed_dice_analyzer.jackpot()\n",
    "\n",
    "fair_dice_relative = fair_dice_jackpots / len(fair_dice_game.show_results())\n",
    "mixed_dice_relative = mixed_dice_jackpots / len(mixed_dice_game.show_results())\n",
    "\n",
    "print(f\"Fair dice game - Jackpots: {fair_dice_jackpots}, Relative frequency: {fair_dice_relative:.6f}\")\n",
    "print(f\"Mixed dice game - Jackpots: {mixed_dice_jackpots}, Relative frequency: {mixed_dice_relative:.6f}\")\n",
    "\n",
    "# Visualize the comparison\n",
    "plt.figure(figsize=(10, 6))\n",
    "categories = ['5 Fair Dice', '3 Fair + 2 Unfair Dice']\n",
    "frequencies = [fair_dice_relative, mixed_dice_relative]\n",
    "\n",
    "bars = plt.bar(categories, frequencies, color=['lightgreen', 'orange'], alpha=0.8)\n",
    "plt.ylabel('Relative Frequency of Jackpots')\n",
    "plt.title('Jackpot Frequency Comparison: Fair vs. Mixed Six-Sided Dice')\n",
    "plt.ylim(0, max(frequencies) * 1.3)\n",
    "\n",
    "# Add value labels on bars\n",
    "for bar, freq in zip(bars, frequencies):\n",
    "    plt.text(bar.get_x() + bar.get_width()/2, bar.get_height() + max(frequencies) * 0.02, \n",
    "             f'{freq:.6f}', ha='center', va='bottom')\n",
    "\n",
    "plt.tight_layout()\n",
    "plt.show()\n",
    "\n",
    "# Additional analysis: face count distribution\n",
    "print(\"\\n=== Face Count Analysis ===\")\n",
    "fair_face_counts = fair_dice_analyzer.face_count()\n",
    "mixed_face_counts = mixed_dice_analyzer.face_count()\n",
    "\n",
    "print(\"\\nAverage face counts per roll (Fair dice):\")\n",
    "print(fair_face_counts.mean())\n",
    "print(\"\\nAverage face counts per roll (Mixed dice):\")\n",
    "print(mixed_face_counts.mean())"
   ]
  },
  {
   "cell_type": "markdown",
   "id": "scenario3-header",
   "metadata": {},
   "source": [
    "## Scenario 3: Letter-Based Word Generation\n",
    "\n",
    "This scenario demonstrates a real-world application of Monte Carlo simulation by using English letter frequencies to generate random letter combinations and identify actual English words. This showcases how probability distributions can model natural phenomena."
   ]
  },
  {
   "cell_type": "markdown",
   "id": "scenario3-setup",
   "metadata": {},
   "source": [
    "### Creating a Letter Die Based on English Frequency\n",
    "\n",
    "We'll create a die where each face represents a letter (A-Z) and the weights correspond to their frequency in English text."
   ]
  },
  {
   "cell_type": "code",
   "execution_count": null,
   "id": "scenario3-letter-die",
   "metadata": {},
   "outputs": [],
   "source": [
    "# Load English letter frequencies\n",
    "try:\n",
    "    letter_data = pd.read_csv('english_letters.txt', sep=r'\\s+', header=None, engine='python')\n",
    "    print(\"English letter frequencies:\")\n",
    "    print(letter_data)\n",
    "    \n",
    "    # Create letter die with frequency-based weights\n",
    "    letter_die = Die(np.array(letter_data[0]))\n",
    "    \n",
    "    # Apply frequency weights\n",
    "    for i in range(len(letter_data)):\n",
    "        letter_die.change_weight(letter_data.iloc[i, 0], float(letter_data.iloc[i, 1]))\n",
    "    \n",
    "    print(\"\\nLetter die with frequency weights:\")\n",
    "    print(letter_die.show())\n",
    "    \n",
    "except FileNotFoundError:\n",
    "    print(\"English letters file not found. Creating a simplified version...\")\n",
    "    # Fallback: create with common English letter frequencies\n",
    "    letters = ['A', 'B', 'C', 'D', 'E', 'F', 'G', 'H', 'I', 'J', 'K', 'L', 'M', \n",
    "               'N', 'O', 'P', 'Q', 'R', 'S', 'T', 'U', 'V', 'W', 'X', 'Y', 'Z']\n",
    "    # Approximate English letter frequencies\n",
    "    frequencies = [8.12, 1.49, 2.78, 4.25, 12.02, 2.23, 2.02, 6.09, 6.97, 0.15, 0.77, 4.03, 2.41,\n",
    "                   6.75, 7.51, 1.93, 0.10, 5.99, 6.33, 9.06, 2.76, 0.98, 2.36, 0.15, 1.97, 0.07]\n",
    "    \n",
    "    letter_die = Die(np.array(letters))\n",
    "    for letter, freq in zip(letters, frequencies):\n",
    "        letter_die.change_weight(letter, freq)\n",
    "    \n",
    "    print(\"Letter die with approximate frequency weights:\")\n",
    "    print(letter_die.show().head(10))  # Show first 10 for brevity"
   ]
  },
  {
   "cell_type": "markdown",
   "id": "scenario3-4dice",
   "metadata": {},
   "source": [
    "### Simulation 1: Four-Letter Combinations\n",
    "\n",
    "Let's simulate rolling four letter dice 1000 times and see how many actual English words we can generate."
   ]
  },
  {
   "cell_type": "code",
   "execution_count": null,
   "id": "scenario3-4dice-game",
   "metadata": {},
   "outputs": [],
   "source": [
    "# Play game with 4 letter dice\n",
    "four_letter_game = Game([letter_die, letter_die, letter_die, letter_die])\n",
    "four_letter_game.play(1000)\n",
    "\n",
    "print(\"Sample 4-letter combinations:\")\n",
    "sample_results = four_letter_game.show_results('narrow').head(10)\n",
    "for i, row in sample_results.iterrows():\n",
    "    word = ''.join(row.values)\n",
    "    print(f\"Roll {i+1}: {word}\")"
   ]
  },
  {
   "cell_type": "markdown",
   "id": "scenario3-word-analysis",
   "metadata": {},
   "source": [
    "### Word Validation Against English Dictionary\n",
    "\n",
    "Now let's check how many of our generated permutations are actual English words using the Scrabble dictionary."
   ]
  },
  {
   "cell_type": "code",
   "execution_count": null,
   "id": "scenario3-4dice-words",
   "metadata": {},
   "outputs": [],
   "source": [
    "# Analyze permutations and find English words\n",
    "four_letter_analyzer = Analyzer(four_letter_game)\n",
    "four_letter_perms = four_letter_analyzer.perm_count()\n",
    "\n",
    "print(f\"Total unique 4-letter permutations generated: {len(four_letter_perms)}\")\n",
    "print(\"\\nTop 10 most frequent permutations:\")\n",
    "print(four_letter_perms.head(10))\n",
    "\n",
    "# Load English word dictionary\n",
    "try:\n",
    "    vocab = pd.read_csv('scrabble_words.txt', header=None)\n",
    "    vocab_set = set(vocab[0].astype(str).str.upper())\n",
    "    \n",
    "    # Convert permutations to strings and check against dictionary\n",
    "    perm_strings = [''.join(perm) for perm in four_letter_perms.index]\n",
    "    valid_words = [word for word in perm_strings if word in vocab_set]\n",
    "    \n",
    "    print(f\"\\n=== 4-Letter Word Analysis ===\")\n",
    "    print(f\"Valid English words found: {len(valid_words)}\")\n",
    "    print(f\"Percentage of permutations that are words: {len(valid_words)/len(four_letter_perms)*100:.2f}%\")\n",
    "    \n",
    "    if valid_words:\n",
    "        print(f\"\\nSample valid words found: {valid_words[:10]}\")\n",
    "    \n",
    "except FileNotFoundError:\n",
    "    print(\"\\nScrabble dictionary not found. Cannot validate words.\")\n",
    "    valid_words = []"
   ]
  },
  {
   "cell_type": "markdown",
   "id": "scenario3-5dice",
   "metadata": {},
   "source": [
    "### Simulation 2: Five-Letter Combinations\n",
    "\n",
    "Let's repeat the experiment with five-letter combinations and compare the results."
   ]
  },
  {
   "cell_type": "code",
   "execution_count": null,
   "id": "scenario3-5dice-game",
   "metadata": {},
   "outputs": [],
   "source": [
    "# Play game with 5 letter dice\n",
    "five_letter_game = Game([letter_die, letter_die, letter_die, letter_die, letter_die])\n",
    "five_letter_game.play(1000)\n",
    "\n",
    "# Analyze permutations\n",
    "five_letter_analyzer = Analyzer(five_letter_game)\n",
    "five_letter_perms = five_letter_analyzer.perm_count()\n",
    "\n",
    "print(f\"Total unique 5-letter permutations generated: {len(five_letter_perms)}\")\n",
    "print(\"\\nSample 5-letter combinations:\")\n",
    "sample_results = five_letter_game.show_results('narrow').head(10)\n",
    "for i, row in sample_results.iterrows():\n",
    "    word = ''.join(row.values)\n",
    "    print(f\"Roll {i+1}: {word}\")\n",
    "\n",
    "# Check for valid English words\n",
    "if 'vocab_set' in locals():\n",
    "    perm_strings_5 = [''.join(perm) for perm in five_letter_perms.index]\n",
    "    valid_words_5 = [word for word in perm_strings_5 if word in vocab_set]\n",
    "    \n",
    "    print(f\"\\n=== 5-Letter Word Analysis ===\")\n",
    "    print(f\"Valid English words found: {len(valid_words_5)}\")\n",
    "    print(f\"Percentage of permutations that are words: {len(valid_words_5)/len(five_letter_perms)*100:.2f}%\")\n",
    "    \n",
    "    if valid_words_5:\n",
    "        print(f\"\\nSample valid words found: {valid_words_5[:10]}\")\n",
    "else:\n",
    "    valid_words_5 = []\n",
    "    print(\"\\nCannot validate 5-letter words without dictionary.\")"
   ]
  },
  {
   "cell_type": "markdown",
   "id": "scenario3-comparison",
   "metadata": {},
   "source": [
    "### Comparative Analysis: 4-Letter vs 5-Letter Word Generation\n",
    "\n",
    "Let's compare the effectiveness of 4-letter vs 5-letter combinations for generating English words."
   ]
  },
  {
   "cell_type": "code",
   "execution_count": null,
   "id": "scenario3-final-analysis",
   "metadata": {},
   "outputs": [],
   "source": [
    "# Compare results\n",
    "if 'valid_words' in locals() and 'valid_words_5' in locals():\n",
    "    print(\"=== Final Comparison ===\")\n",
    "    print(f\"4-letter combinations: {len(valid_words)} valid words out of {len(four_letter_perms)} permutations\")\n",
    "    print(f\"5-letter combinations: {len(valid_words_5)} valid words out of {len(five_letter_perms)} permutations\")\n",
    "    \n",
    "    # Determine which produces more words\n",
    "    if len(valid_words) > len(valid_words_5):\n",
    "        winner = \"4-letter combinations\"\n",
    "        difference = len(valid_words) - len(valid_words_5)\n",
    "    elif len(valid_words_5) > len(valid_words):\n",
    "        winner = \"5-letter combinations\"\n",
    "        difference = len(valid_words_5) - len(valid_words)\n",
    "    else:\n",
    "        winner = \"Both produce equal results\"\n",
    "        difference = 0\n",
    "    \n",
    "    print(f\"\\nResult: {winner}\")\n",
    "    if difference > 0:\n",
    "        print(f\"Difference: {difference} more valid words\")\n",
    "    \n",
    "    # Visualize the comparison\n",
    "    plt.figure(figsize=(12, 8))\n",
    "    \n",
    "    # Subplot 1: Valid words comparison\n",
    "    plt.subplot(2, 2, 1)\n",
    "    categories = ['4-Letter', '5-Letter']\n",
    "    word_counts = [len(valid_words), len(valid_words_5)]\n",
    "    bars = plt.bar(categories, word_counts, color=['lightblue', 'lightgreen'], alpha=0.8)\n",
    "    plt.ylabel('Number of Valid Words')\n",
    "    plt.title('Valid English Words Generated')\n",
    "    for bar, count in zip(bars, word_counts):\n",
    "        plt.text(bar.get_x() + bar.get_width()/2, bar.get_height() + 1, \n",
    "                 str(count), ha='center', va='bottom')\n",
    "    \n",
    "    # Subplot 2: Total permutations comparison\n",
    "    plt.subplot(2, 2, 2)\n",
    "    perm_counts = [len(four_letter_perms), len(five_letter_perms)]\n",
    "    bars = plt.bar(categories, perm_counts, color=['coral', 'gold'], alpha=0.8)\n",
    "    plt.ylabel('Number of Unique Permutations')\n",
    "    plt.title('Total Permutations Generated')\n",
    "    for bar, count in zip(bars, perm_counts):\n",
    "        plt.text(bar.get_x() + bar.get_width()/2, bar.get_height() + max(perm_counts)*0.01, \n",
    "                 str(count), ha='center', va='bottom')\n",
    "    \n",
    "    # Subplot 3: Success rate (percentage of permutations that are words)\n",
    "    plt.subplot(2, 2, 3)\n",
    "    success_rates = [len(valid_words)/len(four_letter_perms)*100, \n",
    "                     len(valid_words_5)/len(five_letter_perms)*100]\n",
    "    bars = plt.bar(categories, success_rates, color=['purple', 'orange'], alpha=0.8)\n",
    "    plt.ylabel('Success Rate (%)')\n",
    "    plt.title('Percentage of Permutations That Are Words')\n",
    "    for bar, rate in zip(bars, success_rates):\n",
    "        plt.text(bar.get_x() + bar.get_width()/2, bar.get_height() + 0.1, \n",
    "                 f'{rate:.1f}%', ha='center', va='bottom')\n",
    "    \n",
    "    plt.tight_layout()\n",
    "    plt.show()\n",
    "    \n",
    "    # Insights\n",
    "    print(\"\\n=== Key Insights ===\")\n",
    "    print(f\"• 4-letter combinations have a {success_rates[0]:.2f}% success rate\")\n",
    "    print(f\"• 5-letter combinations have a {success_rates[1]:.2f}% success rate\")\n",
    "    print(f\"• The probability of generating valid words {'increases' if success_rates[1] > success_rates[0] else 'decreases'} with longer combinations\")\n",
    "    print(f\"• This demonstrates how Monte Carlo simulation can model real-world language patterns\")\n",
    "\n",
    "else:\n",
    "    print(\"Word validation requires the scrabble_words.txt dictionary file.\")"
   ]
  },
  {
   "cell_type": "markdown",
   "id": "conclusion",
   "metadata": {},
   "source": [
    "## Conclusion\n",
    "\n",
    "This notebook demonstrated the versatility and power of Monte Carlo simulation through three distinct scenarios:\n",
    "\n",
    "1. **Coin Flipping**: Showed how weighted dice affect probability distributions and jackpot frequencies\n",
    "2. **Six-Sided Dice**: Explored complex multi-die scenarios with various bias configurations\n",
    "3. **Letter Generation**: Applied simulation to a real-world problem of modeling English language patterns\n",
    "\n",
    "### Key Takeaways:\n",
    "\n",
    "- **Bias Impact**: Weighted dice significantly alter outcome distributions and jackpot probabilities\n",
    "- **Scale Effects**: Larger simulations (10,000 vs 1,000 rolls) provide more stable statistical estimates\n",
    "- **Real-world Applications**: Monte Carlo methods can model natural phenomena like language patterns\n",
    "- **Statistical Analysis**: The `Analyzer` class provides powerful tools for examining simulation results\n",
    "\n",
    "The Monte Carlo simulator package successfully demonstrates fundamental concepts in probability theory, statistical analysis, and computational simulation methods."
   ]
  }
 ],
 "metadata": {
  "kernelspec": {
   "display_name": "Python 3",
   "language": "python",
   "name": "python3"
  },
  "language_info": {
   "codemirror_mode": {
    "name": "ipython",
    "version": 3
   },
   "file_extension": ".py",
   "mimetype": "text/x-python",
   "name": "python",
   "nbconvert_exporter": "python",
   "pygments_lexer": "ipython3",
   "version": "3.8.5"
  }
 },
 "nbformat": 4,
 "nbformat_minor": 4
}
